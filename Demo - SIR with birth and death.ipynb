{
 "cells": [
  {
   "cell_type": "markdown",
   "id": "1aedb9ec",
   "metadata": {},
   "source": [
    "# In-Class Demo for SIR model & Euler"
   ]
  },
  {
   "cell_type": "markdown",
   "id": "932a9439",
   "metadata": {},
   "source": [
    "Dan Larremore, 9/11/2025"
   ]
  },
  {
   "cell_type": "markdown",
   "id": "3a7164ec",
   "metadata": {},
   "source": [
    "We're going to implement the following simple recursion, which is known as Forward Euler\n",
    "\n",
    "$$t_{n+1} = t_n + \\Delta t$$\n",
    "$$y_{n+1} = y_n + f(y_n,t_n)\\cdot\\Delta t$$\n",
    "\n",
    "And we're going to modify to include birth and death without any net change in population size. "
   ]
  },
  {
   "cell_type": "markdown",
   "id": "23cbc3e5",
   "metadata": {},
   "source": [
    "## Imports"
   ]
  },
  {
   "cell_type": "code",
   "execution_count": null,
   "id": "bc9f4ec2",
   "metadata": {},
   "outputs": [],
   "source": [
    "import numpy as np\n",
    "import matplotlib.pyplot as plt"
   ]
  },
  {
   "cell_type": "markdown",
   "id": "005358a9",
   "metadata": {},
   "source": [
    "## Define the Forward Euler solver as a function"
   ]
  },
  {
   "cell_type": "code",
   "execution_count": null,
   "id": "04c907d3",
   "metadata": {},
   "outputs": [],
   "source": [
    "def SIR(S0,I0,R0, beta, gamma, t_max, stepsize):\n",
    "    T = np.arange(0,t_max+stepsize,stepsize)\n",
    "    S = np.zeros(len(T))\n",
    "    I = np.zeros(len(T))\n",
    "    R = np.zeros(len(T))\n",
    "    N = S0+I0+R0\n",
    "    \n",
    "    for idx,t in enumerate(T):\n",
    "        if idx==0:\n",
    "            S[idx] = S0\n",
    "            I[idx] = I0\n",
    "            R[idx] = R0\n",
    "        else:\n",
    "            dS_dt = -beta * S[idx-1] * I[idx-1] / N\n",
    "            dI_dt = beta * S[idx-1] * I[idx-1] / N - gamma * I[idx-1]\n",
    "            dR_dt = gamma * I[idx-1]\n",
    "            \n",
    "            S[idx] = S[idx-1] + dS_dt * stepsize\n",
    "            I[idx] = I[idx-1] + dI_dt * stepsize\n",
    "            R[idx] = R[idx-1] + dR_dt * stepsize\n",
    "    \n",
    "    return S, I, R, T"
   ]
  },
  {
   "cell_type": "code",
   "execution_count": null,
   "id": "4c75f160",
   "metadata": {},
   "outputs": [],
   "source": [
    "def SIR_birthdeath(S0,I0,R0, beta, gamma, mu, t_max, stepsize):\n",
    "    T = np.arange(0,t_max+stepsize,stepsize)\n",
    "    S = np.zeros(len(T))\n",
    "    I = np.zeros(len(T))\n",
    "    R = np.zeros(len(T))\n",
    "    N = S0+I0+R0\n",
    "    \n",
    "    for idx,t in enumerate(T):\n",
    "        if idx==0:\n",
    "            S[idx] = S0\n",
    "            I[idx] = I0\n",
    "            R[idx] = R0\n",
    "        else:\n",
    "            dS_dt = -beta * S[idx-1] * I[idx-1] / N - mu*S[idx-1] + mu*N\n",
    "            dI_dt = beta * S[idx-1] * I[idx-1] / N - gamma * I[idx-1] - mu*I[idx-1]\n",
    "            dR_dt = gamma * I[idx-1] - mu*R[idx-1]\n",
    "            \n",
    "            S[idx] = S[idx-1] + dS_dt * stepsize\n",
    "            I[idx] = I[idx-1] + dI_dt * stepsize\n",
    "            R[idx] = R[idx-1] + dR_dt * stepsize\n",
    "    \n",
    "    return S, I, R, T"
   ]
  },
  {
   "cell_type": "markdown",
   "id": "83a65e79",
   "metadata": {},
   "source": [
    "## Simulate and plot"
   ]
  },
  {
   "cell_type": "code",
   "execution_count": null,
   "id": "e72193d4",
   "metadata": {},
   "outputs": [],
   "source": [
    "# SIR(S0,I0,R0, beta, gamma, t_max, stepsize):\n",
    "fig, axs = plt.subplots(nrows=1,ncols=2,figsize=(10,5))\n",
    "beta = 1\n",
    "gamma = 0.5\n",
    "mu = 0.01\n",
    "max_t = 500\n",
    "\n",
    "ax = axs[0]\n",
    "S,I,R,T = SIR(999,1,0,\n",
    "             beta,gamma,max_t,0.05)\n",
    "# ax.plot(T,S, color='b', label='Susceptibles')\n",
    "ax.plot(T,I, color='r', label='Infecteds')\n",
    "# ax.plot(T,R, color='k', label='Recovereds')\n",
    "\n",
    "ax = axs[1]\n",
    "S,I,R,T = SIR_birthdeath(999,1,0,\n",
    "             beta,gamma,mu,max_t,0.05)\n",
    "# ax.plot(T,S, color='b', label='Susceptibles')\n",
    "ax.plot(T,I, color='r', label='Infecteds')\n",
    "# ax.plot(T,R, color='k', label='Recovereds')\n",
    "R0 = beta/(gamma+mu)\n",
    "Seq = 1/R0 * 1000\n",
    "# ax.plot([0,max_t],[Seq,Seq],'b--')\n",
    "\n",
    "for ax in axs:\n",
    "    ax.set_xlabel('time')\n",
    "    ax.set_ylabel('people')\n",
    "    ax.set_ylim(bottom=0)\n",
    "    ax.set_xlim(left=0)"
   ]
  }
 ],
 "metadata": {
  "kernelspec": {
   "display_name": ".conda",
   "language": "python",
   "name": "python3"
  },
  "language_info": {
   "codemirror_mode": {
    "name": "ipython",
    "version": 3
   },
   "file_extension": ".py",
   "mimetype": "text/x-python",
   "name": "python",
   "nbconvert_exporter": "python",
   "pygments_lexer": "ipython3",
   "version": "3.12.11"
  }
 },
 "nbformat": 4,
 "nbformat_minor": 5
}
